{
 "cells": [
  {
   "cell_type": "code",
   "execution_count": 1,
   "metadata": {
    "ExecuteTime": {
     "end_time": "2023-04-13T12:09:30.469219Z",
     "start_time": "2023-04-13T12:09:21.974606Z"
    }
   },
   "outputs": [],
   "source": [
    "import os\n",
    "import fnmatch\n",
    "import concurrent.futures\n",
    "import traceback\n",
    "import random\n",
    "import time\n",
    "import threading\n",
    "\n",
    "import pandas as pd\n",
    "from tqdm import tqdm\n",
    "from pathlib import Path\n",
    "from torchvision import transforms\n",
    "from PIL import Image\n"
   ]
  },
  {
   "cell_type": "code",
   "execution_count": 2,
   "metadata": {
    "ExecuteTime": {
     "end_time": "2023-04-13T12:09:30.475321Z",
     "start_time": "2023-04-13T12:09:30.471534Z"
    }
   },
   "outputs": [],
   "source": [
    "DATASET_DIR = '../../../dataset'\n",
    "MIMIC_JPG_DIR = f'{DATASET_DIR}/mimic-cxr-jpg-2.0.0'\n",
    "MIMIC_JPG_RESIZE_OUTPUT_DIR = f'{DATASET_DIR}/mimic-cxr-jpg-2.0.0-resized'"
   ]
  },
  {
   "cell_type": "code",
   "execution_count": 3,
   "metadata": {},
   "outputs": [],
   "source": [
    "def resize(jpg_path, pbar=None):\n",
    "    img = Image.open(jpg_path)\n",
    "    out_path = jpg_path.replace(MIMIC_JPG_DIR, MIMIC_JPG_RESIZE_OUTPUT_DIR)\n",
    "    Path(out_path).parent.mkdir(parents=True, exist_ok=True)\n",
    "    w, h = img.size\n",
    "    sw, sh = (256 * h) // w, (256 * w) // h\n",
    "    # print(f'({w=}, {h=}), ({sw=}, {sh=})')\n",
    "    to_size = (256, sw) if w >= h else (sh, 256)\n",
    "    #to_size = (256, sh) if w >= h else (256, sw) # inverted with pytorch\n",
    "    # print(f'{to_size=}')\n",
    "    img_ = transforms.Compose([transforms.Resize((to_size[1], to_size[0]))])(img)\n",
    "    # print(f'transformed: {img_.size}')\n",
    "    img_.save(out_path, 'JPEG')\n",
    "    if pbar is not None:\n",
    "        pbar.update(1)\n",
    "    # waiting = random.randint(0, 1)\n",
    "    # time.sleep(waiting)\n",
    "    # print(f'\\t{threading.get_ident()}: {waiting}')\n"
   ]
  },
  {
   "cell_type": "code",
   "execution_count": 5,
   "metadata": {},
   "outputs": [],
   "source": [
    "MaxWorkers = 16\n",
    "\n",
    "def resize_all_images():\n",
    "    basedir = f'{MIMIC_JPG_DIR}'\n",
    "    # basedir = f'{MIMIC_JPG_DIR}/p19/p19005583/s51728935'\n",
    "    # basedir = f'{MIMIC_JPG_DIR}/p10'\n",
    "    jpg_gen = (os.path.join(root, filename)\n",
    "       for root, dirs, files in os.walk(basedir)\n",
    "       for filename in fnmatch.filter(files, '*.jpg'))\n",
    "    pbar = tqdm(total=377024, ncols=120)\n",
    "    with concurrent.futures.ThreadPoolExecutor(max_workers=MaxWorkers) as executor:\n",
    "        for filename in jpg_gen:\n",
    "            executor.submit(resize, filename, pbar)\n",
    "    pbar.close()\n",
    "    print('resize_all_images: DONE')\n"
   ]
  },
  {
   "cell_type": "code",
   "execution_count": 6,
   "metadata": {},
   "outputs": [
    {
     "name": "stderr",
     "output_type": "stream",
     "text": [
      "377024it [6:01:29, 17.38it/s]                                                                                           "
     ]
    },
    {
     "name": "stdout",
     "output_type": "stream",
     "text": [
      "resize_all_images: DONE\n",
      "CPU times: user 14h 20min 39s, sys: 59min 12s, total: 15h 19min 52s\n",
      "Wall time: 6h 1min 29s\n"
     ]
    },
    {
     "name": "stderr",
     "output_type": "stream",
     "text": [
      "\n"
     ]
    }
   ],
   "source": [
    "%%time\n",
    "resize_all_images()"
   ]
  },
  {
   "cell_type": "code",
   "execution_count": 19,
   "metadata": {
    "ExecuteTime": {
     "end_time": "2023-04-13T12:22:25.098414Z",
     "start_time": "2023-04-13T12:22:25.094169Z"
    },
    "collapsed": false
   },
   "outputs": [],
   "source": [
    "def generate_mini_list():\n",
    "    mini_dir = f'{DATASET_DIR}/mini/mimic-cxr-jpg-2.0.0-resized'\n",
    "    jpg_gen = (filename\n",
    "               for root, dirs, files in os.walk(mini_dir)\n",
    "               for filename in fnmatch.filter(files, '*.jpg'))\n",
    "    dicom_ids = []\n",
    "    for filename in jpg_gen:\n",
    "        dicom = filename.replace('.jpg', '')\n",
    "        dicom_ids.append(dicom)\n",
    "    df = pd.DataFrame({'dicom_id': dicom_ids})\n",
    "    df.to_csv(f'{DATASET_DIR}/processed/mimic-cxr-2.0.0-mini-dicoms.csv')\n",
    "    return df\n"
   ]
  }
 ],
 "metadata": {
  "kernelspec": {
   "display_name": "uiuc-cs598-dlh",
   "language": "python",
   "name": "python3"
  },
  "language_info": {
   "codemirror_mode": {
    "name": "ipython",
    "version": 3
   },
   "file_extension": ".py",
   "mimetype": "text/x-python",
   "name": "python",
   "nbconvert_exporter": "python",
   "pygments_lexer": "ipython3",
   "version": "3.8.16"
  },
  "orig_nbformat": 4
 },
 "nbformat": 4,
 "nbformat_minor": 2
}
