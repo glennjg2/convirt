{
 "cells": [
  {
   "cell_type": "markdown",
   "metadata": {},
   "source": [
    "# Summary\n",
    "\n",
    "The general results from the original paper were very much achieved and demonstrated in this repli- cation project.\n",
    "- Performanceresultswereachievedatthesame level as the paper, and it was shown that the ConVIRT-based model outperformed the Imagenet-based model in deteremining the presence of COVID in the chest X-ray\n",
    "- It was also shown that the ConVIRT-based model achieved better results on 1% of RSNA than the ImageNet-based model"
   ]
  },
  {
   "attachments": {},
   "cell_type": "markdown",
   "metadata": {},
   "source": [
    "# Data\n",
    "\n",
    "### MIMIC-CXR-JPG\n",
    "This dataset is entirely de- rived from MIMIC-CXR and the images are instead available in JPG format. It also includes the follow- ing metadata:\n",
    "- X-ray information such as procedure, position, image size (rows, columns), date and time, and others\n",
    "- Study labeling according to medical con- ditions, which include Atelectasis, Car- diomegaly, Pleural Effusion, and others (14 total)\n",
    "- Train / validation / test splits\n",
    "\n",
    "### COVIDx \n",
    "This is a public dataset containing chest X-rays available on Kaggle, made available along with COVIDNet (Wang et al., 2020). It can be downloaded from https://www.kaggle.com/datasets/andyczhao/covidx-cxr2. It is a continually growing dataset with 30,882 chest X-rays involving 17,026 patients as of this writing.\n",
    "\n",
    "### RSNA\n",
    "This is a public dataset also from Kaggle and used as the dataset for a past competition for pneumonia detection. It is available at https://www.kaggle.com/competitions/rsnapneumonia-detection-challenge/data. It contains 26,684 training images and 3,000 test images."
   ]
  },
  {
   "cell_type": "markdown",
   "metadata": {},
   "source": []
  }
 ],
 "metadata": {
  "language_info": {
   "name": "python"
  },
  "orig_nbformat": 4
 },
 "nbformat": 4,
 "nbformat_minor": 2
}
